{
  "nbformat": 4,
  "nbformat_minor": 0,
  "metadata": {
    "colab": {
      "name": "Copy of Python assignment letsupgrade.ipynb",
      "provenance": [],
      "collapsed_sections": [],
      "authorship_tag": "ABX9TyMcjagv96mic3uzutDLdMXl",
      "include_colab_link": true
    },
    "kernelspec": {
      "name": "python3",
      "display_name": "Python 3"
    },
    "language_info": {
      "name": "python"
    }
  },
  "cells": [
    {
      "cell_type": "markdown",
      "metadata": {
        "id": "view-in-github",
        "colab_type": "text"
      },
      "source": [
        "<a href=\"https://colab.research.google.com/github/arunachalamsh/arunachalamsh/blob/main/Copy_of_Python_assignment_letsupgrade.ipynb\" target=\"_parent\"><img src=\"https://colab.research.google.com/assets/colab-badge.svg\" alt=\"Open In Colab\"/></a>"
      ]
    },
    {
      "cell_type": "markdown",
      "metadata": {
        "id": "G99ALO31Bbq8"
      },
      "source": [
        "Create two list of some brands"
      ]
    },
    {
      "cell_type": "code",
      "metadata": {
        "id": "0sPx9lBFJR2A"
      },
      "source": [
        "test_list1 = ['cadbury','perk','munch','galaxy']\n",
        "test_list2 = ['mars','kitkat','gems','Snickers']"
      ],
      "execution_count": null,
      "outputs": []
    },
    {
      "cell_type": "markdown",
      "metadata": {
        "id": "dokRsJdZZN17"
      },
      "source": [
        " List overlapping of brand names in both list"
      ]
    },
    {
      "cell_type": "code",
      "metadata": {
        "id": "igLj8OjAZYc7",
        "colab": {
          "base_uri": "https://localhost:8080/"
        },
        "outputId": "bf72add1-f9e0-4e28-93e7-1d6fdaf336cb"
      },
      "source": [
        " \n",
        "def intersection(lst1, lst2): \n",
        "    lst3 = [value for value in lst1 if value in lst2] \n",
        "    return lst3 \n",
        "  \n",
        " \n",
        "lst1 = ['cadbury','perk','munch','galaxy','mars','kitkat']\n",
        "lst2 = ['mars','kitkat','gems','Snickers','cadbury'] \n",
        "print(intersection(lst1, lst2))"
      ],
      "execution_count": null,
      "outputs": [
        {
          "output_type": "stream",
          "text": [
            "['cadbury', 'mars', 'kitkat']\n"
          ],
          "name": "stdout"
        }
      ]
    },
    {
      "cell_type": "markdown",
      "metadata": {
        "id": "Cl27Kp2_YD-k"
      },
      "source": [
        " Print even numbers from 20 to 40"
      ]
    },
    {
      "cell_type": "code",
      "metadata": {
        "colab": {
          "base_uri": "https://localhost:8080/"
        },
        "id": "y04yVPxXZAQH",
        "outputId": "f362a4b6-5d74-4163-92a1-7e0c3aa76b09"
      },
      "source": [
        "start, end = 20,40\n",
        "for num in range(start, end + 1):\n",
        "       if num % 2 == 0: \n",
        " \n",
        "        print(num, end = \" \")"
      ],
      "execution_count": null,
      "outputs": [
        {
          "output_type": "stream",
          "text": [
            "20 22 24 26 28 30 32 34 36 38 40 "
          ],
          "name": "stdout"
        }
      ]
    }
  ]
}